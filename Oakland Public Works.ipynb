{
 "cells": [
  {
   "cell_type": "markdown",
   "id": "e6f93406-6ac7-411d-a3fb-8d8953df222a",
   "metadata": {},
   "source": [
    "# Oakland Public Works - Exploratory Analysis"
   ]
  },
  {
   "cell_type": "markdown",
   "id": "1cad1e4a-5b9e-46f4-a6a2-44b4d3f8fd9d",
   "metadata": {},
   "source": [
    "## The following notebook documents my exploratory analysis, cleaning efforts, and suggested actions based on the Oakland Public Works [dataset](https://www.kaggle.com/cityofoakland/oakland-call-center-public-work-service-requests?select=service-requests-received-by-public-works.csv) found on Kaggle"
   ]
  },
  {
   "cell_type": "markdown",
   "id": "84f9b610-4fff-4580-a45b-726a879d4172",
   "metadata": {},
   "source": [
    "### 1. Initial Data Read"
   ]
  },
  {
   "cell_type": "code",
   "execution_count": 5,
   "id": "cb3fc62e-87b8-4f4c-9ae8-d44e38c70d77",
   "metadata": {},
   "outputs": [
    {
     "name": "stderr",
     "output_type": "stream",
     "text": [
      "C:\\Users\\Jared\\AppData\\Local\\Temp\\ipykernel_24152\\858450555.py:8: DtypeWarning: Columns (7) have mixed types. Specify dtype option on import or set low_memory=False.\n",
      "  df = pd.read_csv(source_path)\n"
     ]
    }
   ],
   "source": [
    "#Imports\n",
    "import pandas as pd\n",
    "import os\n",
    "\n",
    "dir = os.path.dirname(\".\")\n",
    "source_path = os.path.join(dir, \"Data Source\", \"service-requests-received-by-the-oakland-call-center.csv\")\n",
    "\n",
    "df = pd.read_csv(source_path)"
   ]
  },
  {
   "cell_type": "code",
   "execution_count": 7,
   "id": "f8ce8412-1fdb-49e6-b762-ad9514916e38",
   "metadata": {},
   "outputs": [
    {
     "data": {
      "text/plain": [
       "(659964, 17)"
      ]
     },
     "execution_count": 7,
     "metadata": {},
     "output_type": "execute_result"
    }
   ],
   "source": [
    "#Validating Read\n",
    "df.shape"
   ]
  },
  {
   "cell_type": "code",
   "execution_count": 9,
   "id": "3e475f8b-b4e4-4ce8-bdf3-890a2b343ebf",
   "metadata": {},
   "outputs": [
    {
     "data": {
      "text/plain": [
       "REQUESTID            int64\n",
       "DATETIMEINIT        object\n",
       "SOURCE              object\n",
       "DESCRIPTION         object\n",
       "REQCATEGORY         object\n",
       "REQADDRESS          object\n",
       "STATUS              object\n",
       "REFERREDTO          object\n",
       "DATETIMECLOSED      object\n",
       "SRX                float64\n",
       "SRY                float64\n",
       "COUNCILDISTRICT     object\n",
       "BEAT                object\n",
       "PROBADDRESS         object\n",
       "City                object\n",
       "State               object\n",
       "Zip Codes          float64\n",
       "dtype: object"
      ]
     },
     "execution_count": 9,
     "metadata": {},
     "output_type": "execute_result"
    }
   ],
   "source": [
    "#Examining Column Headers\n",
    "df.columns\n",
    "df.dtypes"
   ]
  },
  {
   "cell_type": "code",
   "execution_count": 12,
   "id": "1772ff86-6924-495c-94f5-a3e0136ff994",
   "metadata": {},
   "outputs": [
    {
     "data": {
      "text/html": [
       "<div>\n",
       "<style scoped>\n",
       "    .dataframe tbody tr th:only-of-type {\n",
       "        vertical-align: middle;\n",
       "    }\n",
       "\n",
       "    .dataframe tbody tr th {\n",
       "        vertical-align: top;\n",
       "    }\n",
       "\n",
       "    .dataframe thead th {\n",
       "        text-align: right;\n",
       "    }\n",
       "</style>\n",
       "<table border=\"1\" class=\"dataframe\">\n",
       "  <thead>\n",
       "    <tr style=\"text-align: right;\">\n",
       "      <th></th>\n",
       "      <th>REQUESTID</th>\n",
       "      <th>DATETIMEINIT</th>\n",
       "      <th>SOURCE</th>\n",
       "      <th>DESCRIPTION</th>\n",
       "      <th>REQCATEGORY</th>\n",
       "      <th>REQADDRESS</th>\n",
       "      <th>STATUS</th>\n",
       "      <th>REFERREDTO</th>\n",
       "      <th>DATETIMECLOSED</th>\n",
       "      <th>SRX</th>\n",
       "      <th>SRY</th>\n",
       "      <th>COUNCILDISTRICT</th>\n",
       "      <th>BEAT</th>\n",
       "      <th>PROBADDRESS</th>\n",
       "      <th>City</th>\n",
       "      <th>State</th>\n",
       "      <th>Zip Codes</th>\n",
       "    </tr>\n",
       "  </thead>\n",
       "  <tbody>\n",
       "    <tr>\n",
       "      <th>639212</th>\n",
       "      <td>325444</td>\n",
       "      <td>2010-01-11T12:12:35.000</td>\n",
       "      <td>Phone or Email</td>\n",
       "      <td>Street Light - Outage/Damaged</td>\n",
       "      <td>ELECTRICAL</td>\n",
       "      <td>{'latitude': '37.72655152937307', 'longitude':...</td>\n",
       "      <td>CLOSED</td>\n",
       "      <td>NaN</td>\n",
       "      <td>2010-01-19T09:00:32.000</td>\n",
       "      <td>6069559.000</td>\n",
       "      <td>2091490.000</td>\n",
       "      <td>CCD7</td>\n",
       "      <td>31X</td>\n",
       "      <td>HEGENBERGER RD &amp; AIRPORT DR</td>\n",
       "      <td>Oakland</td>\n",
       "      <td>CA</td>\n",
       "      <td>1493.0</td>\n",
       "    </tr>\n",
       "    <tr>\n",
       "      <th>227079</th>\n",
       "      <td>737704</td>\n",
       "      <td>2017-06-08T12:54:49.000</td>\n",
       "      <td>Website</td>\n",
       "      <td>City Bldg - Sign</td>\n",
       "      <td>BLDGMAINT</td>\n",
       "      <td>{'latitude': '37.80123936964236', 'longitude':...</td>\n",
       "      <td>CLOSED</td>\n",
       "      <td>NaN</td>\n",
       "      <td>2017-08-07T15:25:10.000</td>\n",
       "      <td>6052185.840</td>\n",
       "      <td>2119011.710</td>\n",
       "      <td>CCD2</td>\n",
       "      <td>03X</td>\n",
       "      <td>MAIN LIBRARY</td>\n",
       "      <td>Oakland</td>\n",
       "      <td>CA</td>\n",
       "      <td>1489.0</td>\n",
       "    </tr>\n",
       "    <tr>\n",
       "      <th>174296</th>\n",
       "      <td>792655</td>\n",
       "      <td>2018-02-07T11:55:10.000</td>\n",
       "      <td>SeeClickFix</td>\n",
       "      <td>Caltrans issue</td>\n",
       "      <td>OTHER</td>\n",
       "      <td>{'latitude': '37.7843323240389', 'longitude': ...</td>\n",
       "      <td>REFERRED</td>\n",
       "      <td>CALTRANS TRAFFIC,</td>\n",
       "      <td>NaN</td>\n",
       "      <td>6076385.500</td>\n",
       "      <td>2112409.250</td>\n",
       "      <td>CCD4</td>\n",
       "      <td>25X</td>\n",
       "      <td>CALAVERAS AV &amp; SB MOUNTAIN OFFRP BL</td>\n",
       "      <td>Oakland</td>\n",
       "      <td>CA</td>\n",
       "      <td>1492.0</td>\n",
       "    </tr>\n",
       "    <tr>\n",
       "      <th>82514</th>\n",
       "      <td>885114</td>\n",
       "      <td>2019-03-11T10:28:16.000</td>\n",
       "      <td>SeeClickFix</td>\n",
       "      <td>Litter - Street Litter Container - Overflowing...</td>\n",
       "      <td>ILLDUMP</td>\n",
       "      <td>{'latitude': '37.75866324553612', 'longitude':...</td>\n",
       "      <td>CLOSED</td>\n",
       "      <td>NaN</td>\n",
       "      <td>2019-03-15T14:52:08.000</td>\n",
       "      <td>6079868.658</td>\n",
       "      <td>2102998.830</td>\n",
       "      <td>CCD7</td>\n",
       "      <td>35X</td>\n",
       "      <td>2329 85TH AV</td>\n",
       "      <td>Oakland</td>\n",
       "      <td>CA</td>\n",
       "      <td>1482.0</td>\n",
       "    </tr>\n",
       "    <tr>\n",
       "      <th>614669</th>\n",
       "      <td>350074</td>\n",
       "      <td>2010-10-13T13:29:00.000</td>\n",
       "      <td>Phone or Email</td>\n",
       "      <td>Sewers - General</td>\n",
       "      <td>SEWERS</td>\n",
       "      <td>{'latitude': '37.804419799056184', 'longitude'...</td>\n",
       "      <td>CLOSED</td>\n",
       "      <td>NaN</td>\n",
       "      <td>2010-10-18T15:46:21.000</td>\n",
       "      <td>6071052.000</td>\n",
       "      <td>2119821.000</td>\n",
       "      <td>CCD4</td>\n",
       "      <td>22Y</td>\n",
       "      <td>2937 FRYE ST</td>\n",
       "      <td>Oakland</td>\n",
       "      <td>CA</td>\n",
       "      <td>1480.0</td>\n",
       "    </tr>\n",
       "    <tr>\n",
       "      <th>155573</th>\n",
       "      <td>812054</td>\n",
       "      <td>2018-05-07T10:18:24.000</td>\n",
       "      <td>Email</td>\n",
       "      <td>Graffiti on Street, Street Light, Traffic Signal,</td>\n",
       "      <td>GRAFFITI</td>\n",
       "      <td>{'latitude': '37.799925041768475', 'longitude'...</td>\n",
       "      <td>CLOSED</td>\n",
       "      <td>NaN</td>\n",
       "      <td>2018-05-08T15:07:52.000</td>\n",
       "      <td>6050036.055</td>\n",
       "      <td>2118573.648</td>\n",
       "      <td>CCD2</td>\n",
       "      <td>03X</td>\n",
       "      <td>9TH ST &amp; WEBSTER ST</td>\n",
       "      <td>Oakland</td>\n",
       "      <td>CA</td>\n",
       "      <td>1484.0</td>\n",
       "    </tr>\n",
       "    <tr>\n",
       "      <th>427260</th>\n",
       "      <td>537488</td>\n",
       "      <td>2014-08-27T16:20:32.000</td>\n",
       "      <td>SeeClickFix</td>\n",
       "      <td>Tree - Restake</td>\n",
       "      <td>TREES</td>\n",
       "      <td>{'latitude': '37.811065931144284', 'longitude'...</td>\n",
       "      <td>UNFUNDED</td>\n",
       "      <td>NaN</td>\n",
       "      <td>NaN</td>\n",
       "      <td>6050585.340</td>\n",
       "      <td>2122620.640</td>\n",
       "      <td>CCD3</td>\n",
       "      <td>04X</td>\n",
       "      <td>2201 TELEGRAPH AV</td>\n",
       "      <td>Oakland</td>\n",
       "      <td>CA</td>\n",
       "      <td>1489.0</td>\n",
       "    </tr>\n",
       "    <tr>\n",
       "      <th>170378</th>\n",
       "      <td>796889</td>\n",
       "      <td>2018-02-26T06:39:52.000</td>\n",
       "      <td>SeeClickFix</td>\n",
       "      <td>Streets - Guardrail Repair</td>\n",
       "      <td>STREETSW</td>\n",
       "      <td>{'latitude': '37.82569123486377', 'longitude':...</td>\n",
       "      <td>CANCEL</td>\n",
       "      <td>NaN</td>\n",
       "      <td>NaN</td>\n",
       "      <td>6070085.350</td>\n",
       "      <td>2127585.280</td>\n",
       "      <td>CCD4</td>\n",
       "      <td>13Z</td>\n",
       "      <td>5921-5949 SHEPHERD CANYON RD</td>\n",
       "      <td>Oakland</td>\n",
       "      <td>CA</td>\n",
       "      <td>1488.0</td>\n",
       "    </tr>\n",
       "    <tr>\n",
       "      <th>159799</th>\n",
       "      <td>807828</td>\n",
       "      <td>2018-04-17T12:59:38.000</td>\n",
       "      <td>SeeClickFix</td>\n",
       "      <td>City Bldg - Clean / Custodial</td>\n",
       "      <td>BLDGMAINT</td>\n",
       "      <td>{'latitude': '37.77611767616056', 'longitude':...</td>\n",
       "      <td>CLOSED</td>\n",
       "      <td>NaN</td>\n",
       "      <td>2019-01-18T10:03:19.000</td>\n",
       "      <td>6063109.226</td>\n",
       "      <td>2109659.135</td>\n",
       "      <td>CCD5</td>\n",
       "      <td>23X</td>\n",
       "      <td>CESAR CHAVEZ BRANCH LIBRARY</td>\n",
       "      <td>Oakland</td>\n",
       "      <td>CA</td>\n",
       "      <td>1188.0</td>\n",
       "    </tr>\n",
       "    <tr>\n",
       "      <th>235700</th>\n",
       "      <td>729083</td>\n",
       "      <td>2017-05-02T09:57:43.000</td>\n",
       "      <td>Voicemail</td>\n",
       "      <td>Traffic - Sign Down</td>\n",
       "      <td>TRAFFIC</td>\n",
       "      <td>{'latitude': '37.839861854948914', 'longitude'...</td>\n",
       "      <td>CLOSED</td>\n",
       "      <td>NaN</td>\n",
       "      <td>2017-05-04T15:52:14.000</td>\n",
       "      <td>6053437.580</td>\n",
       "      <td>2133054.020</td>\n",
       "      <td>CCD1</td>\n",
       "      <td>12Y</td>\n",
       "      <td>5321 CLAREMONT AV</td>\n",
       "      <td>Oakland</td>\n",
       "      <td>CA</td>\n",
       "      <td>1491.0</td>\n",
       "    </tr>\n",
       "  </tbody>\n",
       "</table>\n",
       "</div>"
      ],
      "text/plain": [
       "        REQUESTID             DATETIMEINIT          SOURCE  \\\n",
       "639212     325444  2010-01-11T12:12:35.000  Phone or Email   \n",
       "227079     737704  2017-06-08T12:54:49.000         Website   \n",
       "174296     792655  2018-02-07T11:55:10.000     SeeClickFix   \n",
       "82514      885114  2019-03-11T10:28:16.000     SeeClickFix   \n",
       "614669     350074  2010-10-13T13:29:00.000  Phone or Email   \n",
       "155573     812054  2018-05-07T10:18:24.000           Email   \n",
       "427260     537488  2014-08-27T16:20:32.000     SeeClickFix   \n",
       "170378     796889  2018-02-26T06:39:52.000     SeeClickFix   \n",
       "159799     807828  2018-04-17T12:59:38.000     SeeClickFix   \n",
       "235700     729083  2017-05-02T09:57:43.000       Voicemail   \n",
       "\n",
       "                                              DESCRIPTION REQCATEGORY  \\\n",
       "639212                      Street Light - Outage/Damaged  ELECTRICAL   \n",
       "227079                                   City Bldg - Sign   BLDGMAINT   \n",
       "174296                                     Caltrans issue       OTHER   \n",
       "82514   Litter - Street Litter Container - Overflowing...     ILLDUMP   \n",
       "614669                                   Sewers - General      SEWERS   \n",
       "155573  Graffiti on Street, Street Light, Traffic Signal,    GRAFFITI   \n",
       "427260                                     Tree - Restake       TREES   \n",
       "170378                         Streets - Guardrail Repair    STREETSW   \n",
       "159799                      City Bldg - Clean / Custodial   BLDGMAINT   \n",
       "235700                                Traffic - Sign Down     TRAFFIC   \n",
       "\n",
       "                                               REQADDRESS    STATUS  \\\n",
       "639212  {'latitude': '37.72655152937307', 'longitude':...    CLOSED   \n",
       "227079  {'latitude': '37.80123936964236', 'longitude':...    CLOSED   \n",
       "174296  {'latitude': '37.7843323240389', 'longitude': ...  REFERRED   \n",
       "82514   {'latitude': '37.75866324553612', 'longitude':...    CLOSED   \n",
       "614669  {'latitude': '37.804419799056184', 'longitude'...    CLOSED   \n",
       "155573  {'latitude': '37.799925041768475', 'longitude'...    CLOSED   \n",
       "427260  {'latitude': '37.811065931144284', 'longitude'...  UNFUNDED   \n",
       "170378  {'latitude': '37.82569123486377', 'longitude':...    CANCEL   \n",
       "159799  {'latitude': '37.77611767616056', 'longitude':...    CLOSED   \n",
       "235700  {'latitude': '37.839861854948914', 'longitude'...    CLOSED   \n",
       "\n",
       "               REFERREDTO           DATETIMECLOSED          SRX          SRY  \\\n",
       "639212                NaN  2010-01-19T09:00:32.000  6069559.000  2091490.000   \n",
       "227079                NaN  2017-08-07T15:25:10.000  6052185.840  2119011.710   \n",
       "174296  CALTRANS TRAFFIC,                      NaN  6076385.500  2112409.250   \n",
       "82514                 NaN  2019-03-15T14:52:08.000  6079868.658  2102998.830   \n",
       "614669                NaN  2010-10-18T15:46:21.000  6071052.000  2119821.000   \n",
       "155573                NaN  2018-05-08T15:07:52.000  6050036.055  2118573.648   \n",
       "427260                NaN                      NaN  6050585.340  2122620.640   \n",
       "170378                NaN                      NaN  6070085.350  2127585.280   \n",
       "159799                NaN  2019-01-18T10:03:19.000  6063109.226  2109659.135   \n",
       "235700                NaN  2017-05-04T15:52:14.000  6053437.580  2133054.020   \n",
       "\n",
       "       COUNCILDISTRICT BEAT                          PROBADDRESS     City  \\\n",
       "639212            CCD7  31X          HEGENBERGER RD & AIRPORT DR  Oakland   \n",
       "227079            CCD2  03X                         MAIN LIBRARY  Oakland   \n",
       "174296            CCD4  25X  CALAVERAS AV & SB MOUNTAIN OFFRP BL  Oakland   \n",
       "82514             CCD7  35X                         2329 85TH AV  Oakland   \n",
       "614669            CCD4  22Y                         2937 FRYE ST  Oakland   \n",
       "155573            CCD2  03X                  9TH ST & WEBSTER ST  Oakland   \n",
       "427260            CCD3  04X                    2201 TELEGRAPH AV  Oakland   \n",
       "170378            CCD4  13Z         5921-5949 SHEPHERD CANYON RD  Oakland   \n",
       "159799            CCD5  23X          CESAR CHAVEZ BRANCH LIBRARY  Oakland   \n",
       "235700            CCD1  12Y                    5321 CLAREMONT AV  Oakland   \n",
       "\n",
       "       State  Zip Codes  \n",
       "639212    CA     1493.0  \n",
       "227079    CA     1489.0  \n",
       "174296    CA     1492.0  \n",
       "82514     CA     1482.0  \n",
       "614669    CA     1480.0  \n",
       "155573    CA     1484.0  \n",
       "427260    CA     1489.0  \n",
       "170378    CA     1488.0  \n",
       "159799    CA     1188.0  \n",
       "235700    CA     1491.0  "
      ]
     },
     "execution_count": 12,
     "metadata": {},
     "output_type": "execute_result"
    }
   ],
   "source": [
    "df.sample(n=10, random_state=1)"
   ]
  },
  {
   "cell_type": "code",
   "execution_count": 37,
   "id": "8a4de055-9cb6-49c2-b636-0b47d01ce01d",
   "metadata": {},
   "outputs": [
    {
     "name": "stdout",
     "output_type": "stream",
     "text": [
      "Min DATETIMEINIT: 2009-07-01T08:05:36.000\n",
      "Max DATETIMEINIT: 2019-12-05T23:43:57.000\n"
     ]
    }
   ],
   "source": [
    "#Min DATETIMEINIT\n",
    "print(f'Min DATETIMEINIT: {df['DATETIMEINIT'].min()}')\n",
    "#Max DATETIMEINIT\n",
    "print(f'Max DATETIMEINIT: {df['DATETIMEINIT'].max()}')"
   ]
  },
  {
   "cell_type": "code",
   "execution_count": 40,
   "id": "dec5050e-afd2-4c14-b790-400e83789230",
   "metadata": {},
   "outputs": [
    {
     "name": "stdout",
     "output_type": "stream",
     "text": [
      "Min DATETIMECLOSED: 2006-09-08T15:05:19.000\n",
      "Max DATETIMECLOSED: 2019-12-05T21:06:47.000\n",
      "Number of Rows missing DATETIMECLOSED: 191354\n"
     ]
    }
   ],
   "source": [
    "#Min DATETIMECLOSED\n",
    "print(f'Min DATETIMECLOSED: {df['DATETIMECLOSED'].dropna().min()}')\n",
    "#Max DATETIMECLOSED\n",
    "print(f'Max DATETIMECLOSED: {df['DATETIMECLOSED'].dropna().max()}')\n",
    "#Count of NaN\n",
    "print(f'Number of Rows missing DATETIMECLOSED: {df['DATETIMECLOSED'].isna().sum()}')"
   ]
  },
  {
   "cell_type": "code",
   "execution_count": 46,
   "id": "06cbaba1-d1f3-46db-bac4-08c0ad9dbf50",
   "metadata": {},
   "outputs": [
    {
     "name": "stdout",
     "output_type": "stream",
     "text": [
      "Distinct SOURCE: ['SeeClickFix' 'Phone or Email' 'Phone' 'Voicemail' 'Email' 'Other'\n",
      " 'Website' 'City Attorney']\n",
      "Distinct REQCATEGORY: ['OTHER' 'PARKING' 'POLICE' 'ELECTRICAL' 'ILLDUMP' 'TRAFFIC_ENGIN'\n",
      " 'STREETSW' 'GRAFFITI' 'BLDGMAINT' 'TREES' 'HE_CLEAN' 'DRAINAGE' 'PARKS'\n",
      " 'METER_REPAIR' 'ROW_STREETSW' 'RECYCLING' 'CUT_CLEAN' 'TRAFFIC' 'SEWERS'\n",
      " 'FIRE' 'ROW_INSPECTORS' 'KOCB' nan 'WATERSHED' 'CW_DIT_GIS' 'FACILITIES'\n",
      " 'ROW' 'VEGCONTR' 'SURVEY' 'LAB' 'OPD' 'GIS']\n",
      "Distinct STATUS: ['PENDING' 'WOCREATE' 'OPEN' 'CANCEL' 'REFERRED' 'GONE ON ARRIVAL'\n",
      " 'CLOSED' 'UNFUNDED' 'EVALUATED - NO FURTHER ACTION' 'WAITING ON CUSTOMER'\n",
      " nan 'Cancel']\n",
      "Distinct COUNCILDISTRICT: ['CCD7' 'CCD4' 'CCD1' 'CCD3' 'CCD2' 'CCD6' 'CCD5' nan 'cd 7' '1' 'ccd7'\n",
      " 'Piedmont' 'ccd4' 'ccd1']\n",
      "Number of Rows missing REQCATEGORY: 77\n",
      "Number of Rows missing STATUS: 17\n",
      "Number of Rows missing COUNCILDISTRICT: 36762\n"
     ]
    }
   ],
   "source": [
    "#Look at my apparent categoricals\n",
    "print(f'Distinct SOURCE: {df['SOURCE'].unique()}')\n",
    "print(f'Distinct REQCATEGORY: {df['REQCATEGORY'].unique()}')\n",
    "print(f'Distinct STATUS: {df['STATUS'].unique()}')\n",
    "print(f'Distinct COUNCILDISTRICT: {df['COUNCILDISTRICT'].unique()}')\n",
    "\n",
    "#How many N/As do I have in REQCATEGORY, STATUS, AND COUNCILDISTRICT\n",
    "print(f'Number of Rows missing REQCATEGORY: {df['REQCATEGORY'].isna().sum()}')\n",
    "print(f'Number of Rows missing STATUS: {df['STATUS'].isna().sum()}')\n",
    "print(f'Number of Rows missing COUNCILDISTRICT: {df['COUNCILDISTRICT'].isna().sum()}')"
   ]
  },
  {
   "cell_type": "markdown",
   "id": "287777f7-ca56-40b1-9396-e3aa2b54b0a3",
   "metadata": {},
   "source": [
    "### 2. At this point in the analysis, I conclude that it's time to narrow the scope of my analysis to the most recent year available, 2019, to see how many of the N/A values in my apparent categorical columns are junk data from early testing that were never cleaned out of the system"
   ]
  },
  {
   "cell_type": "code",
   "execution_count": 52,
   "id": "0900079e-66a2-4fc2-9c8c-c02931b9f26c",
   "metadata": {},
   "outputs": [],
   "source": [
    "#Convert Date/Time Columns to DT data type\n",
    "df['DATETIMEINIT'] = pd.to_datetime(df['DATETIMEINIT'])\n",
    "df['DATETIMECLOSED'] = pd.to_datetime(df['DATETIMECLOSED'])"
   ]
  },
  {
   "cell_type": "code",
   "execution_count": 53,
   "id": "361f1c99-8cff-4760-ba09-adb14c359a87",
   "metadata": {},
   "outputs": [],
   "source": [
    "#Slice down to tickets created in 2019\n",
    "cur_year = df.loc[df['DATETIMEINIT'].dt.year == 2019]"
   ]
  },
  {
   "cell_type": "code",
   "execution_count": 57,
   "id": "faa05b32-9d83-48fd-a969-3d22e78180c2",
   "metadata": {},
   "outputs": [
    {
     "data": {
      "text/plain": [
       "(104790, 17)"
      ]
     },
     "execution_count": 57,
     "metadata": {},
     "output_type": "execute_result"
    }
   ],
   "source": [
    "cur_year.shape"
   ]
  },
  {
   "cell_type": "code",
   "execution_count": 58,
   "id": "b05df0a5-cfeb-4a2a-9983-d9a8744bc3b7",
   "metadata": {},
   "outputs": [
    {
     "data": {
      "text/plain": [
       "REQUESTID                   int64\n",
       "DATETIMEINIT       datetime64[ns]\n",
       "SOURCE                     object\n",
       "DESCRIPTION                object\n",
       "REQCATEGORY                object\n",
       "REQADDRESS                 object\n",
       "STATUS                     object\n",
       "REFERREDTO                 object\n",
       "DATETIMECLOSED     datetime64[ns]\n",
       "SRX                       float64\n",
       "SRY                       float64\n",
       "COUNCILDISTRICT            object\n",
       "BEAT                       object\n",
       "PROBADDRESS                object\n",
       "City                       object\n",
       "State                      object\n",
       "Zip Codes                 float64\n",
       "dtype: object"
      ]
     },
     "execution_count": 58,
     "metadata": {},
     "output_type": "execute_result"
    }
   ],
   "source": [
    "cur_year.columns\n",
    "cur_year.dtypes"
   ]
  },
  {
   "cell_type": "code",
   "execution_count": 59,
   "id": "0df2805a-cd5e-4368-9ece-d329cadfa96d",
   "metadata": {},
   "outputs": [
    {
     "name": "stdout",
     "output_type": "stream",
     "text": [
      "Distinct SOURCE: ['SeeClickFix' 'Phone or Email' 'Phone' 'Voicemail' 'Email' 'Other'\n",
      " 'Website' 'City Attorney']\n",
      "Distinct REQCATEGORY: ['OTHER' 'PARKING' 'POLICE' 'ELECTRICAL' 'ILLDUMP' 'TRAFFIC_ENGIN'\n",
      " 'STREETSW' 'GRAFFITI' 'BLDGMAINT' 'TREES' 'HE_CLEAN' 'DRAINAGE' 'PARKS'\n",
      " 'METER_REPAIR' 'ROW_STREETSW' 'RECYCLING' 'CUT_CLEAN' 'TRAFFIC' 'SEWERS'\n",
      " 'FIRE' 'ROW_INSPECTORS' 'KOCB' nan 'WATERSHED' 'CW_DIT_GIS' 'FACILITIES']\n",
      "Distinct STATUS: ['PENDING' 'WOCREATE' 'OPEN' 'CANCEL' 'REFERRED' 'GONE ON ARRIVAL'\n",
      " 'CLOSED' 'UNFUNDED' 'EVALUATED - NO FURTHER ACTION' 'WAITING ON CUSTOMER'\n",
      " nan]\n",
      "Distinct COUNCILDISTRICT: ['CCD7' 'CCD4' 'CCD1' 'CCD3' 'CCD2' 'CCD6' 'CCD5' nan 'cd 7' '1']\n",
      "Number of Rows missing REQCATEGORY: 18\n",
      "Number of Rows missing STATUS: 17\n",
      "Number of Rows missing COUNCILDISTRICT: 6558\n"
     ]
    }
   ],
   "source": [
    "#Rerun Categorical cell on slice\n",
    "#Look at my apparent categoricals\n",
    "print(f'Distinct SOURCE: {cur_year['SOURCE'].unique()}')\n",
    "print(f'Distinct REQCATEGORY: {cur_year['REQCATEGORY'].unique()}')\n",
    "print(f'Distinct STATUS: {cur_year['STATUS'].unique()}')\n",
    "print(f'Distinct COUNCILDISTRICT: {cur_year['COUNCILDISTRICT'].unique()}')\n",
    "\n",
    "#How many N/As do I have in REQCATEGORY, STATUS, AND COUNCILDISTRICT\n",
    "print(f'Number of Rows missing REQCATEGORY: {cur_year['REQCATEGORY'].isna().sum()}')\n",
    "print(f'Number of Rows missing STATUS: {cur_year['STATUS'].isna().sum()}')\n",
    "print(f'Number of Rows missing COUNCILDISTRICT: {cur_year['COUNCILDISTRICT'].isna().sum()}')"
   ]
  },
  {
   "cell_type": "code",
   "execution_count": 66,
   "id": "17c49964-9789-44bf-9354-b08f7d084a7e",
   "metadata": {},
   "outputs": [
    {
     "name": "stderr",
     "output_type": "stream",
     "text": [
      "C:\\Users\\Jared\\AppData\\Local\\Temp\\ipykernel_24152\\831808191.py:2: SettingWithCopyWarning: \n",
      "A value is trying to be set on a copy of a slice from a DataFrame.\n",
      "Try using .loc[row_indexer,col_indexer] = value instead\n",
      "\n",
      "See the caveats in the documentation: https://pandas.pydata.org/pandas-docs/stable/user_guide/indexing.html#returning-a-view-versus-a-copy\n",
      "  cur_year['COUNCILDISTRICT'] = cur_year['COUNCILDISTRICT'].replace('cd 7', 'CCD7')\n",
      "C:\\Users\\Jared\\AppData\\Local\\Temp\\ipykernel_24152\\831808191.py:3: SettingWithCopyWarning: \n",
      "A value is trying to be set on a copy of a slice from a DataFrame.\n",
      "Try using .loc[row_indexer,col_indexer] = value instead\n",
      "\n",
      "See the caveats in the documentation: https://pandas.pydata.org/pandas-docs/stable/user_guide/indexing.html#returning-a-view-versus-a-copy\n",
      "  cur_year['COUNCILDISTRICT'] = cur_year['COUNCILDISTRICT'].replace('1', 'CCD1')\n"
     ]
    }
   ],
   "source": [
    "#Perform simple cleanup of COUNCILDISTRICT in-place (fully aware pandas doesn't approve of this technique)\n",
    "cur_year['COUNCILDISTRICT'] = cur_year['COUNCILDISTRICT'].replace('cd 7', 'CCD7')\n",
    "cur_year['COUNCILDISTRICT'] = cur_year['COUNCILDISTRICT'].replace('1', 'CCD1')"
   ]
  },
  {
   "cell_type": "markdown",
   "id": "2e25b8bc-148e-4ab1-b11a-08ae9d5a0a58",
   "metadata": {},
   "source": [
    "### 3. At this point, I've dialed into the columns I want to visualize and need to start looking at charts.  There is a possibility that I'll need to further slice up the time boxes, but the visualizations will tell me that story better."
   ]
  },
  {
   "cell_type": "code",
   "execution_count": 67,
   "id": "af0da74b-6b5d-4e33-9198-9d69383236b2",
   "metadata": {},
   "outputs": [],
   "source": [
    "import matplotlib as mp"
   ]
  },
  {
   "cell_type": "code",
   "execution_count": null,
   "id": "09dd78dd-913e-4ab8-bc0d-3fd114e97b56",
   "metadata": {},
   "outputs": [],
   "source": []
  },
  {
   "cell_type": "code",
   "execution_count": null,
   "id": "a1492e0e-ecce-44f9-86fd-248ab5b9a737",
   "metadata": {},
   "outputs": [],
   "source": []
  },
  {
   "cell_type": "code",
   "execution_count": null,
   "id": "b3824bfc-3e4d-41bd-af79-c53572cff53f",
   "metadata": {},
   "outputs": [],
   "source": []
  },
  {
   "cell_type": "code",
   "execution_count": null,
   "id": "77ae6891-dcbd-40d0-a8fc-c53ae5ce7d8a",
   "metadata": {},
   "outputs": [],
   "source": []
  }
 ],
 "metadata": {
  "kernelspec": {
   "display_name": "Python 3 (ipykernel)",
   "language": "python",
   "name": "python3"
  },
  "language_info": {
   "codemirror_mode": {
    "name": "ipython",
    "version": 3
   },
   "file_extension": ".py",
   "mimetype": "text/x-python",
   "name": "python",
   "nbconvert_exporter": "python",
   "pygments_lexer": "ipython3",
   "version": "3.12.3"
  }
 },
 "nbformat": 4,
 "nbformat_minor": 5
}
